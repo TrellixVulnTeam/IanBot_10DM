{
 "cells": [
  {
   "cell_type": "code",
   "execution_count": 1,
   "metadata": {
    "ExecuteTime": {
     "end_time": "2018-10-24T14:12:27.756459Z",
     "start_time": "2018-10-24T14:12:27.077319Z"
    }
   },
   "outputs": [],
   "source": [
    "from telegram.ext import Updater, CommandHandler, MessageHandler, Filters\n",
    "\n",
    "token = \"673065999:AAFpHnAz3ltDQVMIgLHIYriUz_H2HWydmyQ\""
   ]
  },
  {
   "cell_type": "code",
   "execution_count": 2,
   "metadata": {
    "ExecuteTime": {
     "end_time": "2018-10-24T14:12:30.511362Z",
     "start_time": "2018-10-24T14:12:30.478451Z"
    }
   },
   "outputs": [],
   "source": [
    "def start(bot, update):\n",
    "    update.message.reply_text('Hi!')\n",
    "\n",
    "def send_help(bot, update):\n",
    "    update.message.reply_text(\"Help!\")\n",
    "    \n",
    "def echo(bot, update):\n",
    "    update.message.reply_text(update.message.text)\n",
    "    \n",
    "def main():\n",
    "    updater = Updater(token)\n",
    "    dp = updater.dispatcher\n",
    "    \n",
    "    dp.add_handler(CommandHandler('start',start))\n",
    "    dp.add_handler(CommandHandler('help',send_help))\n",
    "    dp.add_handler(MessageHandler(Filters.text, echo))\n",
    "    \n",
    "    updater.start_polling()\n",
    "    updater.idle()"
   ]
  },
  {
   "cell_type": "code",
   "execution_count": 3,
   "metadata": {
    "ExecuteTime": {
     "end_time": "2018-10-24T14:15:41.580476Z",
     "start_time": "2018-10-24T14:12:31.356794Z"
    }
   },
   "outputs": [],
   "source": [
    "if __name__ == '__main__':     \n",
    "    main()"
   ]
  },
  {
   "cell_type": "code",
   "execution_count": null,
   "metadata": {},
   "outputs": [],
   "source": []
  }
 ],
 "metadata": {
  "kernelspec": {
   "display_name": "Python 3",
   "language": "python",
   "name": "python3"
  },
  "language_info": {
   "codemirror_mode": {
    "name": "ipython",
    "version": 3
   },
   "file_extension": ".py",
   "mimetype": "text/x-python",
   "name": "python",
   "nbconvert_exporter": "python",
   "pygments_lexer": "ipython3",
   "version": "3.6.3"
  },
  "latex_envs": {
   "LaTeX_envs_menu_present": true,
   "autoclose": false,
   "autocomplete": true,
   "bibliofile": "biblio.bib",
   "cite_by": "apalike",
   "current_citInitial": 1,
   "eqLabelWithNumbers": true,
   "eqNumInitial": 1,
   "hotkeys": {
    "equation": "Ctrl-E",
    "itemize": "Ctrl-I"
   },
   "labels_anchors": false,
   "latex_user_defs": false,
   "report_style_numbering": false,
   "user_envs_cfg": false
  },
  "toc": {
   "base_numbering": 1,
   "nav_menu": {},
   "number_sections": true,
   "sideBar": true,
   "skip_h1_title": false,
   "title_cell": "Table of Contents",
   "title_sidebar": "Contents",
   "toc_cell": false,
   "toc_position": {},
   "toc_section_display": true,
   "toc_window_display": false
  }
 },
 "nbformat": 4,
 "nbformat_minor": 2
}
